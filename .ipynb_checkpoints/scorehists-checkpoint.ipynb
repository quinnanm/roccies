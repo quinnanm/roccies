{
 "cells": [
  {
   "cell_type": "code",
   "execution_count": 2,
   "metadata": {},
   "outputs": [
    {
     "name": "stdout",
     "output_type": "stream",
     "text": [
      "roccies\n"
     ]
    },
    {
     "ename": "SyntaxError",
     "evalue": "Missing parentheses in call to 'print'. Did you mean print('file',infile)? (utils.py, line 9)",
     "output_type": "error",
     "traceback": [
      "Traceback \u001b[0;36m(most recent call last)\u001b[0m:\n",
      "  File \u001b[1;32m\"/Users/melissaquinnan/miniconda3/envs/roccies/lib/python3.7/site-packages/IPython/core/interactiveshell.py\"\u001b[0m, line \u001b[1;32m3457\u001b[0m, in \u001b[1;35mrun_code\u001b[0m\n    exec(code_obj, self.user_global_ns, self.user_ns)\n",
      "  File \u001b[1;32m\"/var/folders/mn/rrdyn3f17ks_c0j8b5n3q3900000gn/T/ipykernel_10050/3320266822.py\"\u001b[0m, line \u001b[1;32m4\u001b[0m, in \u001b[1;35m<module>\u001b[0m\n    from histstuff import *\n",
      "\u001b[0;36m  File \u001b[0;32m\"/Users/melissaquinnan/Lab/2019/2022/UCSD/roccies/histstuff.py\"\u001b[0;36m, line \u001b[0;32m11\u001b[0;36m, in \u001b[0;35m<module>\u001b[0;36m\u001b[0m\n\u001b[0;31m    from utils import *\u001b[0m\n",
      "\u001b[0;36m  File \u001b[0;32m\"/Users/melissaquinnan/Lab/2019/2022/UCSD/roccies/utils.py\"\u001b[0;36m, line \u001b[0;32m9\u001b[0m\n\u001b[0;31m    print 'file',infile\u001b[0m\n\u001b[0m               ^\u001b[0m\n\u001b[0;31mSyntaxError\u001b[0m\u001b[0;31m:\u001b[0m Missing parentheses in call to 'print'. Did you mean print('file',infile)?\n"
     ]
    }
   ],
   "source": [
    "import os\n",
    "print (os.environ['CONDA_DEFAULT_ENV'])\n",
    "\n",
    "from histstuff import *\n",
    "from rocstuff import *\n",
    "from plotsettings import *\n",
    "\n",
    "hs = histstuff()\n",
    "rs = rocstuff()\n",
    "ps = plotsettings()\n",
    "\n"
   ]
  },
  {
   "cell_type": "code",
   "execution_count": null,
   "metadata": {},
   "outputs": [],
   "source": []
  }
 ],
 "metadata": {
  "kernelspec": {
   "display_name": "Python 3 (ipykernel)",
   "language": "python",
   "name": "python3"
  },
  "language_info": {
   "codemirror_mode": {
    "name": "ipython",
    "version": 3
   },
   "file_extension": ".py",
   "mimetype": "text/x-python",
   "name": "python",
   "nbconvert_exporter": "python",
   "pygments_lexer": "ipython3",
   "version": "3.7.15"
  }
 },
 "nbformat": 4,
 "nbformat_minor": 2
}
