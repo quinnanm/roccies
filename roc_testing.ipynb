{
 "cells": [
  {
   "cell_type": "code",
   "execution_count": 1,
   "id": "bafc81cc",
   "metadata": {},
   "outputs": [
    {
     "name": "stdout",
     "output_type": "stream",
     "text": [
      "roccies\n",
      "init\n"
     ]
    }
   ],
   "source": [
    "import os\n",
    "print (os.environ['CONDA_DEFAULT_ENV'])\n",
    "\n",
    "from rocstuff import *\n",
    "from histstuff import *\n",
    "from plotsettings import *\n",
    "from sels import *\n",
    "from utils import *\n",
    "import uproot\n",
    "\n",
    "rs = rocstuff()\n",
    "hs = histstuff()\n",
    "ps = plotsettings()"
   ]
  },
  {
   "cell_type": "code",
   "execution_count": 2,
   "id": "b88d6fc4",
   "metadata": {
    "scrolled": true
   },
   "outputs": [
    {
     "name": "stdout",
     "output_type": "stream",
     "text": [
      "file ./rootfiles/ucsd/qcd-3.root\n",
      "cutstr ((fj_pt>200) & (fj_pt<2500) & (fj_msoftdrop>=20) & (fj_msoftdrop<260) & (abs(fj_eta)<2.4))\n",
      "file ./rootfiles/ucsd/hww-2.root\n",
      "cutstr ((fj_pt>200) & (fj_pt<2500) & (fj_msoftdrop>=20) & (fj_msoftdrop<260) & (abs(fj_eta)<2.4))\n",
      "signal label to mask array ['fj_isHVV_munuqq']\n",
      "no set variable to plot, using defaults according to signal labels\n",
      "score to plot ['score_fj_isHVV_munuqq']\n",
      "background label to mask array ['fj_QCD_label']\n"
     ]
    },
    {
     "ename": "KeyError",
     "evalue": "'QCD_score'",
     "output_type": "error",
     "traceback": [
      "\u001b[0;31m---------------------------------------------------------------------------\u001b[0m",
      "\u001b[0;31mKeyError\u001b[0m                                  Traceback (most recent call last)",
      "\u001b[0;32m/var/folders/mn/rrdyn3f17ks_c0j8b5n3q3900000gn/T/ipykernel_40332/2073614344.py\u001b[0m in \u001b[0;36m<module>\u001b[0;34m\u001b[0m\n\u001b[1;32m     19\u001b[0m \u001b[0mbkgs\u001b[0m \u001b[0;34m=\u001b[0m \u001b[0;34m[\u001b[0m\u001b[0;34m'QCD'\u001b[0m\u001b[0;34m]\u001b[0m\u001b[0;34m\u001b[0m\u001b[0;34m\u001b[0m\u001b[0m\n\u001b[1;32m     20\u001b[0m \u001b[0;34m\u001b[0m\u001b[0m\n\u001b[0;32m---> 21\u001b[0;31m \u001b[0mout_ucsd\u001b[0m\u001b[0;34m,\u001b[0m \u001b[0minfo\u001b[0m \u001b[0;34m=\u001b[0m \u001b[0mrs\u001b[0m\u001b[0;34m.\u001b[0m\u001b[0mroccy\u001b[0m\u001b[0;34m(\u001b[0m\u001b[0msevts\u001b[0m\u001b[0;34m,\u001b[0m \u001b[0mbevts\u001b[0m\u001b[0;34m,\u001b[0m \u001b[0mlabels\u001b[0m\u001b[0;34m,\u001b[0m \u001b[0msigs\u001b[0m\u001b[0;34m,\u001b[0m \u001b[0mbkgs\u001b[0m\u001b[0;34m)\u001b[0m\u001b[0;34m\u001b[0m\u001b[0;34m\u001b[0m\u001b[0m\n\u001b[0m\u001b[1;32m     22\u001b[0m \u001b[0mprint\u001b[0m\u001b[0;34m(\u001b[0m\u001b[0mout_ucsd\u001b[0m\u001b[0;34m.\u001b[0m\u001b[0mkeys\u001b[0m\u001b[0;34m(\u001b[0m\u001b[0;34m)\u001b[0m\u001b[0;34m)\u001b[0m\u001b[0;34m\u001b[0m\u001b[0;34m\u001b[0m\u001b[0m\n",
      "\u001b[0;32m~/Lab/2019/2022/UCSD/roccies/rocstuff.py\u001b[0m in \u001b[0;36mroccy\u001b[0;34m(self, sarr, barr, labels, slabels, blabels, plotvars, info)\u001b[0m\n\u001b[1;32m    138\u001b[0m \u001b[0;34m\u001b[0m\u001b[0m\n\u001b[1;32m    139\u001b[0m                     \u001b[0;31m#denominator score is signal+background scores\u001b[0m\u001b[0;34m\u001b[0m\u001b[0;34m\u001b[0m\u001b[0;34m\u001b[0m\u001b[0m\n\u001b[0;32m--> 140\u001b[0;31m                     \u001b[0mbvar\u001b[0m \u001b[0;34m=\u001b[0m \u001b[0mlabels\u001b[0m\u001b[0;34m[\u001b[0m\u001b[0mb\u001b[0m\u001b[0;34m+\u001b[0m\u001b[0;34m'_score'\u001b[0m\u001b[0;34m]\u001b[0m\u001b[0;34m\u001b[0m\u001b[0;34m\u001b[0m\u001b[0m\n\u001b[0m\u001b[1;32m    141\u001b[0m                     \u001b[0mdenvars\u001b[0m \u001b[0;34m=\u001b[0m \u001b[0msvar\u001b[0m\u001b[0;34m+\u001b[0m\u001b[0mbvar\u001b[0m\u001b[0;34m\u001b[0m\u001b[0;34m\u001b[0m\u001b[0m\n\u001b[1;32m    142\u001b[0m                     \u001b[0mprint\u001b[0m\u001b[0;34m(\u001b[0m\u001b[0;34m'DENVAR'\u001b[0m\u001b[0;34m+\u001b[0m\u001b[0mstr\u001b[0m\u001b[0;34m(\u001b[0m\u001b[0mdenvars\u001b[0m\u001b[0;34m)\u001b[0m\u001b[0;34m+\u001b[0m\u001b[0;34m'\\n'\u001b[0m\u001b[0;34m)\u001b[0m\u001b[0;34m\u001b[0m\u001b[0;34m\u001b[0m\u001b[0m\n",
      "\u001b[0;31mKeyError\u001b[0m: 'QCD_score'"
     ]
    }
   ],
   "source": [
    "#how to make roc curves\n",
    "\n",
    "bproc = 'qcd'\n",
    "sproc = 'hww'\n",
    "group = 'ucsd'\n",
    "\n",
    "binfo = hs.initcache() # cache\n",
    "sinfo = hs.initcache() # cache\n",
    "binfo['group']= group; sinfo['group']= group\n",
    "binfo['proc']= bproc; sinfo['proc']= sproc\n",
    "\n",
    "#get arrays\n",
    "bevts, binfo = getarr(files[bproc][group], basesel, info=binfo)\n",
    "sevts, sinfo = getarr(files[sproc][group], basesel, info=sinfo)\n",
    "\n",
    "labels = getsels(group)\n",
    "\n",
    "sigs = ['Hmu', 'Hel', 'Htau']\n",
    "bkgs = ['QCD']\n",
    "\n",
    "out_ucsd, info = rs.roccy(sevts, bevts, labels, sigs, bkgs)\n",
    "print(out_ucsd.keys())\n"
   ]
  },
  {
   "cell_type": "code",
   "execution_count": null,
   "id": "cd2908c1",
   "metadata": {},
   "outputs": [],
   "source": [
    "\n",
    "\n"
   ]
  },
  {
   "cell_type": "code",
   "execution_count": 3,
   "id": "9c09934b",
   "metadata": {},
   "outputs": [
    {
     "name": "stdout",
     "output_type": "stream",
     "text": [
      "file ./rootfiles/pku/qcd_pku.root\n",
      "cutstr ((fj_pt>200) & (fj_pt<2500) & (fj_msoftdrop>=20) & (fj_msoftdrop<260) & (abs(fj_eta)<2.4))\n",
      "file ./rootfiles/pku/hww_pku.root\n",
      "cutstr ((fj_pt>200) & (fj_pt<2500) & (fj_msoftdrop>=20) & (fj_msoftdrop<260) & (abs(fj_eta)<2.4))\n",
      "signal label to mask array ['label_H_WqqWmv_0c', 'label_H_WqqWmv_1c']\n",
      "no set variable to plot, using defaults according to signal labels\n",
      "score to plot ['score_label_H_WqqWmv_0c', 'score_label_H_WqqWmv_1c']\n",
      "background label to mask array ['label_QCD_bb', 'label_QCD_cc', 'label_QCD_blabel_QCD_c', 'label_QCD_others']\n",
      "DENVAR['score_label_H_WqqWmv_0c', 'score_label_H_WqqWmv_1c', 'score_label_QCD_bb', 'score_label_QCD_cc', 'score_label_QCD_b', 'score_label_QCD_c', 'score_label_QCD_others']\n",
      "\n",
      "mask [False False False ... False False  True]\n",
      "MASKING WITH LABEL: ['label_H_WqqWmv_0c', 'label_H_WqqWmv_1c'][False False False ... False False  True]\n",
      "('score_label_H_WqqWqq_0c', 'score_label_H_WqqWqq_1c', 'score_label_H_WqqWqq_2c', 'score_label_H_WqqWq_0c', 'score_label_H_WqqWq_1c', 'score_label_H_WqqWq_2c', 'score_label_H_WqqWev_0c', 'score_label_H_WqqWev_1c', 'score_label_H_WqqWmv_0c', 'score_label_H_WqqWmv_1c', 'score_label_H_WqqWtauev_0c', 'score_label_H_WqqWtauev_1c', 'score_label_H_WqqWtaumv_0c', 'score_label_H_WqqWtaumv_1c', 'score_label_H_WqqWtauhv_0c', 'score_label_H_WqqWtauhv_1c', 'score_label_QCD_bb', 'score_label_QCD_cc', 'score_label_QCD_b', 'score_label_QCD_c', 'score_label_QCD_others', 'score_label_Top_bWqq_0c', 'score_label_Top_bWqq_1c', 'score_label_Top_bWq_0c', 'score_label_Top_bWq_1c', 'score_label_Top_bWev', 'score_label_Top_bWmv', 'score_label_Top_bWtauhv', 'score_label_Top_bWtauev', 'score_label_Top_bWtaumv', 'score_label_Wqq_jets_1c', 'score_label_Wqq_jets_0c')\n",
      "NEW ARRAY: [(1.2434723e-08, 7.7531880e-08, 3.0014544e-08, 3.4101358e-08, 6.3567107e-08, 5.7835582e-08, 1.04653715e-07, 8.1835964e-08, 0.7586683 , 0.20645942, 5.0884193e-08, 2.4690141e-08, 0.02775898, 0.00699388, 2.0348371e-06, 8.3587065e-07, 4.0280701e-10, 6.2227841e-08, 1.0791942e-08, 7.7829988e-08, 3.23694337e-07, 2.1072304e-10, 1.3144222e-10, 2.1367403e-09, 1.6147116e-10, 1.8561196e-10, 1.1199393e-04, 1.19863008e-09, 2.0682817e-11, 3.4537541e-06, 1.24795534e-07, 5.3168629e-09)\n",
      " (2.6464930e-05, 1.7123626e-04, 6.3758744e-05, 1.1494060e-05, 2.5744994e-05, 1.0604458e-05, 2.19574467e-05, 1.9939092e-05, 0.6806997 , 0.24654843, 2.0828172e-06, 1.8178910e-06, 0.05061461, 0.01727048, 3.1467411e-05, 2.7115324e-05, 3.9781357e-06, 2.9590683e-05, 8.6168011e-06, 8.5538059e-06, 1.96478704e-05, 5.0668509e-06, 3.3070833e-06, 4.8564821e-06, 7.6891945e-07, 6.3940746e-07, 3.7796763e-03, 4.60273924e-07, 7.4734167e-08, 4.4057873e-04, 1.04335966e-04, 4.3054599e-05)\n",
      " (3.1300929e-06, 2.3117298e-05, 2.4793933e-05, 3.2295795e-06, 1.8193423e-05, 2.6576372e-05, 3.53264477e-06, 1.3557092e-05, 0.04361072, 0.08388999, 1.5516230e-06, 5.6617669e-06, 0.00788576, 0.01445895, 1.2932296e-05, 5.1889616e-05, 1.2470657e-03, 4.7906069e-04, 3.0928716e-04, 1.5807436e-04, 1.22929108e-03, 2.1691721e-04, 7.5369771e-04, 9.1029040e-04, 1.3939540e-03, 2.3392061e-04, 6.3210249e-01, 3.35583987e-04, 6.1838786e-05, 2.1025807e-01, 2.47640273e-04, 2.9195897e-05)\n",
      " ...\n",
      " (6.5901571e-07, 2.9183610e-05, 6.1908511e-05, 8.7932261e-07, 3.1310963e-05, 7.0750430e-05, 1.54650502e-06, 4.6674293e-05, 0.0783428 , 0.8431699 , 6.8206214e-07, 1.9010577e-05, 0.00518297, 0.04696602, 1.8541459e-05, 3.5420031e-04, 1.7635546e-05, 1.1984671e-04, 1.2527796e-05, 2.0839685e-05, 1.39037265e-05, 5.9348022e-06, 7.3240422e-05, 2.7213402e-05, 5.2671108e-05, 2.6782695e-06, 2.2938829e-02, 9.19644754e-06, 1.1009704e-06, 2.3779024e-03, 2.81254088e-05, 1.3739443e-06)\n",
      " (2.1029912e-06, 3.5400972e-05, 2.6029136e-05, 1.4574582e-06, 1.1960341e-05, 1.1796021e-05, 1.48765616e-06, 4.2506072e-06, 0.6124919 , 0.30318075, 5.3849027e-07, 1.2679341e-06, 0.05531431, 0.02738073, 1.1873638e-05, 2.9485032e-05, 1.6492785e-06, 1.7667813e-05, 4.0842228e-06, 6.1464953e-06, 1.47730789e-05, 6.7291282e-08, 2.3663550e-07, 2.7266740e-06, 8.0420506e-07, 8.8287038e-08, 1.2040097e-03, 5.20951005e-07, 2.8808563e-08, 1.8639486e-04, 5.52688325e-05, 2.0444516e-07)\n",
      " (1.8638541e-07, 6.1137149e-07, 1.9791375e-07, 3.0747813e-07, 4.5093594e-07, 2.7740481e-07, 1.15454895e-06, 6.6214994e-07, 0.65581214, 0.31071022, 9.1382697e-07, 2.7404536e-07, 0.01850403, 0.00841261, 1.7815188e-05, 5.8856590e-06, 5.0573927e-08, 1.0595797e-06, 4.1493067e-07, 1.2991445e-06, 8.58155363e-06, 3.5673381e-08, 2.1224450e-08, 2.6454958e-07, 3.4764355e-08, 2.8734160e-08, 6.3155927e-03, 1.06350015e-07, 3.9601531e-09, 2.0360848e-04, 9.85257770e-07, 2.0404241e-07)]\n",
      "constructing score\n",
      "SCORE DEFINED AS: SUM(['score_label_H_WqqWmv_0c', 'score_label_H_WqqWmv_1c']) / SUM(['score_label_H_WqqWmv_0c', 'score_label_H_WqqWmv_1c', 'score_label_QCD_bb', 'score_label_QCD_cc', 'score_label_QCD_b', 'score_label_QCD_c', 'score_label_QCD_others'])\n",
      "mask [False False False ... False False False]\n"
     ]
    },
    {
     "ename": "ValueError",
     "evalue": "no field of name label_QCD_blabel_QCD_c",
     "output_type": "error",
     "traceback": [
      "\u001b[0;31m---------------------------------------------------------------------------\u001b[0m",
      "\u001b[0;31mValueError\u001b[0m                                Traceback (most recent call last)",
      "\u001b[0;32m/var/folders/mn/rrdyn3f17ks_c0j8b5n3q3900000gn/T/ipykernel_40332/2972105450.py\u001b[0m in \u001b[0;36m<module>\u001b[0;34m\u001b[0m\n\u001b[1;32m     17\u001b[0m \u001b[0mbkgs\u001b[0m \u001b[0;34m=\u001b[0m \u001b[0;34m[\u001b[0m\u001b[0;34m'QCD'\u001b[0m\u001b[0;34m]\u001b[0m\u001b[0;34m\u001b[0m\u001b[0;34m\u001b[0m\u001b[0m\n\u001b[1;32m     18\u001b[0m \u001b[0;34m\u001b[0m\u001b[0m\n\u001b[0;32m---> 19\u001b[0;31m \u001b[0mout_pku\u001b[0m\u001b[0;34m,\u001b[0m \u001b[0minfo\u001b[0m \u001b[0;34m=\u001b[0m \u001b[0mrs\u001b[0m\u001b[0;34m.\u001b[0m\u001b[0mroccy\u001b[0m\u001b[0;34m(\u001b[0m\u001b[0msevts2\u001b[0m\u001b[0;34m,\u001b[0m \u001b[0mbevts2\u001b[0m\u001b[0;34m,\u001b[0m \u001b[0mlabels2\u001b[0m\u001b[0;34m,\u001b[0m \u001b[0msigs\u001b[0m\u001b[0;34m,\u001b[0m \u001b[0mbkgs\u001b[0m\u001b[0;34m)\u001b[0m\u001b[0;34m\u001b[0m\u001b[0;34m\u001b[0m\u001b[0m\n\u001b[0m\u001b[1;32m     20\u001b[0m \u001b[0mprint\u001b[0m\u001b[0;34m(\u001b[0m\u001b[0mout_pku\u001b[0m\u001b[0;34m.\u001b[0m\u001b[0mkeys\u001b[0m\u001b[0;34m(\u001b[0m\u001b[0;34m)\u001b[0m\u001b[0;34m)\u001b[0m\u001b[0;34m\u001b[0m\u001b[0;34m\u001b[0m\u001b[0m\n",
      "\u001b[0;32m~/Lab/2019/2022/UCSD/roccies/rocstuff.py\u001b[0m in \u001b[0;36mroccy\u001b[0;34m(self, sarr, barr, labels, slabels, blabels, plotvars, info)\u001b[0m\n\u001b[1;32m    146\u001b[0m                     \u001b[0;31m#sigarrs[i] = sscore\u001b[0m\u001b[0;34m\u001b[0m\u001b[0;34m\u001b[0m\u001b[0;34m\u001b[0m\u001b[0m\n\u001b[1;32m    147\u001b[0m \u001b[0;34m\u001b[0m\u001b[0m\n\u001b[0;32m--> 148\u001b[0;31m                     \u001b[0mbscorearr\u001b[0m \u001b[0;34m=\u001b[0m \u001b[0mself\u001b[0m\u001b[0;34m.\u001b[0m\u001b[0mlabelmask\u001b[0m\u001b[0;34m(\u001b[0m\u001b[0mblab\u001b[0m\u001b[0;34m,\u001b[0m \u001b[0mbarr\u001b[0m\u001b[0;34m,\u001b[0m \u001b[0mscorebranches\u001b[0m\u001b[0;34m)\u001b[0m \u001b[0;31m#array of scores that pass the label\u001b[0m\u001b[0;34m\u001b[0m\u001b[0;34m\u001b[0m\u001b[0m\n\u001b[0m\u001b[1;32m    149\u001b[0m                     \u001b[0mbscore\u001b[0m \u001b[0;34m=\u001b[0m \u001b[0mself\u001b[0m\u001b[0;34m.\u001b[0m\u001b[0mconstructscore\u001b[0m\u001b[0;34m(\u001b[0m\u001b[0mbscorearr\u001b[0m\u001b[0;34m,\u001b[0m \u001b[0msvar\u001b[0m\u001b[0;34m,\u001b[0m \u001b[0mdenvars\u001b[0m\u001b[0;34m)\u001b[0m \u001b[0;31m#then construct the score as sum if needed\u001b[0m\u001b[0;34m\u001b[0m\u001b[0;34m\u001b[0m\u001b[0m\n\u001b[1;32m    150\u001b[0m                     \u001b[0;31m#bkgarrs[i] = bscore\u001b[0m\u001b[0;34m\u001b[0m\u001b[0;34m\u001b[0m\u001b[0;34m\u001b[0m\u001b[0m\n",
      "\u001b[0;32m~/Lab/2019/2022/UCSD/roccies/rocstuff.py\u001b[0m in \u001b[0;36mlabelmask\u001b[0;34m(self, label, array, branches)\u001b[0m\n\u001b[1;32m     84\u001b[0m \u001b[0;34m\u001b[0m\u001b[0m\n\u001b[1;32m     85\u001b[0m         \u001b[0;32mfor\u001b[0m \u001b[0mi\u001b[0m\u001b[0;34m,\u001b[0m\u001b[0mlab\u001b[0m \u001b[0;32min\u001b[0m \u001b[0menumerate\u001b[0m\u001b[0;34m(\u001b[0m\u001b[0mlabel\u001b[0m\u001b[0;34m[\u001b[0m\u001b[0;36m1\u001b[0m\u001b[0;34m:\u001b[0m\u001b[0;34m]\u001b[0m\u001b[0;34m)\u001b[0m\u001b[0;34m:\u001b[0m\u001b[0;34m\u001b[0m\u001b[0;34m\u001b[0m\u001b[0m\n\u001b[0;32m---> 86\u001b[0;31m             \u001b[0mmask\u001b[0m \u001b[0;34m=\u001b[0m \u001b[0;34m(\u001b[0m\u001b[0mmask\u001b[0m\u001b[0;34m)\u001b[0m \u001b[0;34m|\u001b[0m \u001b[0;34m(\u001b[0m\u001b[0marray\u001b[0m\u001b[0;34m[\u001b[0m\u001b[0mlab\u001b[0m\u001b[0;34m]\u001b[0m\u001b[0;34m==\u001b[0m\u001b[0;36m1\u001b[0m\u001b[0;34m)\u001b[0m\u001b[0;34m\u001b[0m\u001b[0;34m\u001b[0m\u001b[0m\n\u001b[0m\u001b[1;32m     87\u001b[0m             \u001b[0mprint\u001b[0m\u001b[0;34m(\u001b[0m\u001b[0;34m'mask '\u001b[0m\u001b[0;34m+\u001b[0m\u001b[0mstr\u001b[0m\u001b[0;34m(\u001b[0m\u001b[0mmask\u001b[0m\u001b[0;34m)\u001b[0m\u001b[0;34m)\u001b[0m\u001b[0;34m\u001b[0m\u001b[0;34m\u001b[0m\u001b[0m\n\u001b[1;32m     88\u001b[0m \u001b[0;34m\u001b[0m\u001b[0m\n",
      "\u001b[0;31mValueError\u001b[0m: no field of name label_QCD_blabel_QCD_c"
     ]
    }
   ],
   "source": [
    "bproc2 = bproc\n",
    "sproc2 = sproc\n",
    "group2 = 'pku'\n",
    "\n",
    "binfo2 = hs.initcache() # cache\n",
    "sinfo2 = hs.initcache() # cache\n",
    "binfo2['group']= group2; sinfo2['group']= group2\n",
    "binfo2['proc']= bproc2; sinfo2['proc']= sproc2\n",
    "\n",
    "#get arrays\n",
    "bevts2, binfo2 = getarr(files[bproc2][group2], basesel, info=binfo)\n",
    "sevts2, sinfo2 = getarr(files[sproc2][group2], basesel, info=sinfo)\n",
    "\n",
    "labels2 = getsels(group2)\n",
    "\n",
    "sigs = ['Hmu', 'Hel', 'Htau']\n",
    "bkgs = ['QCD']\n",
    "\n",
    "out_pku, info = rs.roccy(sevts2, bevts2, labels2, sigs, bkgs)\n",
    "print(out_pku.keys())"
   ]
  },
  {
   "cell_type": "code",
   "execution_count": null,
   "id": "93504d73",
   "metadata": {},
   "outputs": [],
   "source": [
    "ps.initroc()\n",
    "\n",
    "for i, key in enumerate(out_ucsd.keys()):\n",
    "    print(key)\n",
    "    label1 = 'ucsd '+key\n",
    "    label2 = 'pku '+key\n",
    "    ps.addroc(out_ucsd[key]['tpr'], out_ucsd[key]['fpr'], label1)\n",
    "    ps.addroc(out_pku[key]['tpr'], out_pku[key]['fpr'], label2)\n",
    "    \n",
    "savename = 'HvT_ucsd_v_pku'    \n",
    "ps.saveroc(savename) "
   ]
  },
  {
   "cell_type": "code",
   "execution_count": null,
   "id": "865f9bdd",
   "metadata": {},
   "outputs": [],
   "source": []
  }
 ],
 "metadata": {
  "kernelspec": {
   "display_name": "Python 3 (ipykernel)",
   "language": "python",
   "name": "python3"
  },
  "language_info": {
   "codemirror_mode": {
    "name": "ipython",
    "version": 3
   },
   "file_extension": ".py",
   "mimetype": "text/x-python",
   "name": "python",
   "nbconvert_exporter": "python",
   "pygments_lexer": "ipython3",
   "version": "3.7.15"
  }
 },
 "nbformat": 4,
 "nbformat_minor": 5
}
